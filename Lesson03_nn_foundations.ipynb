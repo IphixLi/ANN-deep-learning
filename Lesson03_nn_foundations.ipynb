{
  "nbformat": 4,
  "nbformat_minor": 0,
  "metadata": {
    "colab": {
      "provenance": [],
      "authorship_tag": "ABX9TyMv35/tH9alw7Xe1I7vSgZf",
      "include_colab_link": true
    },
    "kernelspec": {
      "name": "python3",
      "display_name": "Python 3"
    },
    "language_info": {
      "name": "python"
    }
  },
  "cells": [
    {
      "cell_type": "markdown",
      "metadata": {
        "id": "view-in-github",
        "colab_type": "text"
      },
      "source": [
        "<a href=\"https://colab.research.google.com/github/IphixLi/Fastai-deep-learning/blob/main/Lesson03_nn_foundations.ipynb\" target=\"_parent\"><img src=\"https://colab.research.google.com/assets/colab-badge.svg\" alt=\"Open In Colab\"/></a>"
      ]
    },
    {
      "cell_type": "code",
      "execution_count": null,
      "metadata": {
        "colab": {
          "base_uri": "https://localhost:8080/"
        },
        "id": "cbuI9nbhN0g8",
        "outputId": "ea48005b-f132-459f-ed7f-e995dd08b9d5"
      },
      "outputs": [
        {
          "output_type": "stream",
          "name": "stdout",
          "text": [
            "\u001b[2K     \u001b[90m━━━━━━━━━━━━━━━━━━━━━━━━━━━━━━━━━━━━━━━━\u001b[0m \u001b[32m719.8/719.8 kB\u001b[0m \u001b[31m5.2 MB/s\u001b[0m eta \u001b[36m0:00:00\u001b[0m\n",
            "\u001b[2K     \u001b[90m━━━━━━━━━━━━━━━━━━━━━━━━━━━━━━━━━━━━━━━━\u001b[0m \u001b[32m507.1/507.1 kB\u001b[0m \u001b[31m7.7 MB/s\u001b[0m eta \u001b[36m0:00:00\u001b[0m\n",
            "\u001b[2K     \u001b[90m━━━━━━━━━━━━━━━━━━━━━━━━━━━━━━━━━━━━━━━━\u001b[0m \u001b[32m1.3/1.3 MB\u001b[0m \u001b[31m5.3 MB/s\u001b[0m eta \u001b[36m0:00:00\u001b[0m\n",
            "\u001b[2K     \u001b[90m━━━━━━━━━━━━━━━━━━━━━━━━━━━━━━━━━━━━━━━━\u001b[0m \u001b[32m115.3/115.3 kB\u001b[0m \u001b[31m7.4 MB/s\u001b[0m eta \u001b[36m0:00:00\u001b[0m\n",
            "\u001b[2K     \u001b[90m━━━━━━━━━━━━━━━━━━━━━━━━━━━━━━━━━━━━━━━━\u001b[0m \u001b[32m134.8/134.8 kB\u001b[0m \u001b[31m5.6 MB/s\u001b[0m eta \u001b[36m0:00:00\u001b[0m\n",
            "\u001b[2K     \u001b[90m━━━━━━━━━━━━━━━━━━━━━━━━━━━━━━━━━━━━━━━━\u001b[0m \u001b[32m1.6/1.6 MB\u001b[0m \u001b[31m13.4 MB/s\u001b[0m eta \u001b[36m0:00:00\u001b[0m\n",
            "\u001b[2K     \u001b[90m━━━━━━━━━━━━━━━━━━━━━━━━━━━━━━━━━━━━━━━━\u001b[0m \u001b[32m134.8/134.8 kB\u001b[0m \u001b[31m4.5 MB/s\u001b[0m eta \u001b[36m0:00:00\u001b[0m\n",
            "\u001b[?25hMounted at /content/gdrive\n"
          ]
        }
      ],
      "source": [
        "#hide\n",
        "! [ -e /content ] && pip install -Uqq fastbook\n",
        "import fastbook\n",
        "fastbook.setup_book()"
      ]
    },
    {
      "cell_type": "code",
      "source": [
        "#hide\n",
        "from fastbook import *\n",
        "from fastai.vision.all import *\n",
        "from fastai.vision.widgets import *"
      ],
      "metadata": {
        "id": "KTt67GcA6h1P"
      },
      "execution_count": 28,
      "outputs": []
    },
    {
      "cell_type": "markdown",
      "source": [
        "We will be doing Digit clssifier. so use famous MNIST dataset. we will focus on just 3s and 7s"
      ],
      "metadata": {
        "id": "0JWbdbIJ6nkg"
      }
    },
    {
      "cell_type": "code",
      "source": [
        "path = untar_data(URLs.MNIST_SAMPLE)"
      ],
      "metadata": {
        "colab": {
          "base_uri": "https://localhost:8080/",
          "height": 37
        },
        "id": "ttgmVTQV6ljK",
        "outputId": "5e72da31-9806-49e9-8e91-e9c3249a175e"
      },
      "execution_count": null,
      "outputs": [
        {
          "output_type": "display_data",
          "data": {
            "text/plain": [
              "<IPython.core.display.HTML object>"
            ],
            "text/html": [
              "\n",
              "<style>\n",
              "    /* Turns off some styling */\n",
              "    progress {\n",
              "        /* gets rid of default border in Firefox and Opera. */\n",
              "        border: none;\n",
              "        /* Needs to be in here for Safari polyfill so background images work as expected. */\n",
              "        background-size: auto;\n",
              "    }\n",
              "    progress:not([value]), progress:not([value])::-webkit-progress-bar {\n",
              "        background: repeating-linear-gradient(45deg, #7e7e7e, #7e7e7e 10px, #5c5c5c 10px, #5c5c5c 20px);\n",
              "    }\n",
              "    .progress-bar-interrupted, .progress-bar-interrupted::-webkit-progress-bar {\n",
              "        background: #F44336;\n",
              "    }\n",
              "</style>\n"
            ]
          },
          "metadata": {}
        },
        {
          "output_type": "display_data",
          "data": {
            "text/plain": [
              "<IPython.core.display.HTML object>"
            ],
            "text/html": [
              "\n",
              "    <div>\n",
              "      <progress value='3219456' class='' max='3214948' style='width:300px; height:20px; vertical-align: middle;'></progress>\n",
              "      100.14% [3219456/3214948 00:00&lt;00:00]\n",
              "    </div>\n",
              "    "
            ]
          },
          "metadata": {}
        }
      ]
    },
    {
      "cell_type": "code",
      "source": [
        "path.ls()"
      ],
      "metadata": {
        "colab": {
          "base_uri": "https://localhost:8080/"
        },
        "id": "4a_-M6MX7EnL",
        "outputId": "ccf99278-380d-4ba5-86d8-28c9546e5b1d"
      },
      "execution_count": null,
      "outputs": [
        {
          "output_type": "execute_result",
          "data": {
            "text/plain": [
              "(#3) [Path('/root/.fastai/data/mnist_sample/labels.csv'),Path('/root/.fastai/data/mnist_sample/train'),Path('/root/.fastai/data/mnist_sample/valid')]"
            ]
          },
          "metadata": {},
          "execution_count": 4
        }
      ]
    },
    {
      "cell_type": "code",
      "source": [
        "threes = (path/'train'/'3').ls().sorted()\n",
        "sevens = (path/'train'/'7').ls().sorted()\n",
        "threes"
      ],
      "metadata": {
        "colab": {
          "base_uri": "https://localhost:8080/"
        },
        "id": "7cTfcfil7GfD",
        "outputId": "a1ad653f-b060-4d20-addf-51d3cd354674"
      },
      "execution_count": null,
      "outputs": [
        {
          "output_type": "execute_result",
          "data": {
            "text/plain": [
              "(#6131) [Path('/root/.fastai/data/mnist_sample/train/3/10.png'),Path('/root/.fastai/data/mnist_sample/train/3/10000.png'),Path('/root/.fastai/data/mnist_sample/train/3/10011.png'),Path('/root/.fastai/data/mnist_sample/train/3/10031.png'),Path('/root/.fastai/data/mnist_sample/train/3/10034.png'),Path('/root/.fastai/data/mnist_sample/train/3/10042.png'),Path('/root/.fastai/data/mnist_sample/train/3/10052.png'),Path('/root/.fastai/data/mnist_sample/train/3/1007.png'),Path('/root/.fastai/data/mnist_sample/train/3/10074.png'),Path('/root/.fastai/data/mnist_sample/train/3/10091.png')...]"
            ]
          },
          "metadata": {},
          "execution_count": 5
        }
      ]
    },
    {
      "cell_type": "markdown",
      "source": [
        "we are using the Image class from the Python Imaging Library (PIL), which is the most widely used Python package for opening, manipulating, and viewing images. Jupyter knows about PIL images, so it displays the image for us automatically."
      ],
      "metadata": {
        "id": "bqFMJ0WZ79UC"
      }
    },
    {
      "cell_type": "code",
      "source": [
        "im3_path = threes[1]\n",
        "im3 = Image.open(im3_path)\n",
        "im3"
      ],
      "metadata": {
        "colab": {
          "base_uri": "https://localhost:8080/",
          "height": 45
        },
        "id": "8rHvkU9g7Tpj",
        "outputId": "2557eb10-0d80-4595-ea72-f1bfdc38288f"
      },
      "execution_count": null,
      "outputs": [
        {
          "output_type": "execute_result",
          "data": {
            "text/plain": [
              "<PIL.PngImagePlugin.PngImageFile image mode=L size=28x28>"
            ],
            "image/png": "[encoded data removed]"
          },
          "metadata": {},
          "execution_count": 10
        }
      ]
    },
    {
      "cell_type": "markdown",
      "source": [
        "BAsically , an Image is a vector matrix of numbers. We can slice the array to pick just the part with the top of the digit in it, and then use a Pandas DataFrame to color-code the values using a gradient, which shows us clearly how the image is created from the pixel values:"
      ],
      "metadata": {
        "id": "PVWE2uQN8JFL"
      }
    },
    {
      "cell_type": "code",
      "source": [
        "im3_t = tensor(im3)\n",
        "df = pd.DataFrame(im3_t[4:22,4:22])\n",
        "df.style.set_properties(**{'font-size':'6pt'}).background_gradient('Blues')"
      ],
      "metadata": {
        "colab": {
          "base_uri": "https://localhost:8080/",
          "height": 613
        },
        "id": "bHDq6DCo8F87",
        "outputId": "d92d99c4-2212-48dc-9a00-b1040b315862"
      },
      "execution_count": null,
      "outputs": [
        {
          "output_type": "execute_result",
          "data": {
            "text/plain": [
              "<pandas.io.formats.style.Styler at 0x7f5b86e11870>"
            ],
            "text/html": [
              "<style type=\"text/css\">\n",
              "#T_c924d_row0_col0, #T_c924d_row0_col1, #T_c924d_row0_col2, #T_c924d_row0_col3, #T_c924d_row0_col4, #T_c924d_row0_col5, #T_c924d_row0_col6, #T_c924d_row0_col7, #T_c924d_row0_col8, #T_c924d_row0_col9, #T_c924d_row0_col10, #T_c924d_row0_col11, #T_c924d_row0_col12, #T_c924d_row0_col13, #T_c924d_row0_col14, #T_c924d_row0_col15, #T_c924d_row0_col16, #T_c924d_row0_col17, #T_c924d_row1_col0, #T_c924d_row1_col1, #T_c924d_row1_col2, #T_c924d_row1_col3, #T_c924d_row1_col4, #T_c924d_row1_col15, #T_c924d_row1_col16, #T_c924d_row1_col17, #T_c924d_row2_col0, #T_c924d_row2_col1, #T_c924d_row2_col2, #T_c924d_row2_col15, #T_c924d_row2_col16, #T_c924d_row2_col17, #T_c924d_row3_col0, #T_c924d_row3_col15, #T_c924d_row3_col16, #T_c924d_row3_col17, #T_c924d_row4_col0, #T_c924d_row4_col6, #T_c924d_row4_col7, #T_c924d_row4_col8, #T_c924d_row4_col9, #T_c924d_row4_col10, #T_c924d_row4_col15, #T_c924d_row4_col16, #T_c924d_row4_col17, #T_c924d_row5_col0, #T_c924d_row5_col5, #T_c924d_row5_col6, #T_c924d_row5_col7, #T_c924d_row5_col8, #T_c924d_row5_col9, #T_c924d_row5_col15, #T_c924d_row5_col16, #T_c924d_row5_col17, #T_c924d_row6_col0, #T_c924d_row6_col1, #T_c924d_row6_col2, #T_c924d_row6_col3, #T_c924d_row6_col4, #T_c924d_row6_col5, #T_c924d_row6_col6, #T_c924d_row6_col7, #T_c924d_row6_col8, #T_c924d_row6_col9, #T_c924d_row6_col14, #T_c924d_row6_col15, #T_c924d_row6_col16, #T_c924d_row6_col17, #T_c924d_row7_col0, #T_c924d_row7_col1, #T_c924d_row7_col2, #T_c924d_row7_col3, #T_c924d_row7_col4, #T_c924d_row7_col5, #T_c924d_row7_col6, #T_c924d_row7_col13, #T_c924d_row7_col14, #T_c924d_row7_col15, #T_c924d_row7_col16, #T_c924d_row7_col17, #T_c924d_row8_col0, #T_c924d_row8_col1, #T_c924d_row8_col2, #T_c924d_row8_col3, #T_c924d_row8_col4, #T_c924d_row8_col13, #T_c924d_row8_col14, #T_c924d_row8_col15, #T_c924d_row8_col16, #T_c924d_row8_col17, #T_c924d_row9_col0, #T_c924d_row9_col1, #T_c924d_row9_col2, #T_c924d_row9_col3, #T_c924d_row9_col4, #T_c924d_row9_col16, #T_c924d_row9_col17, #T_c924d_row10_col0, #T_c924d_row10_col1, #T_c924d_row10_col2, #T_c924d_row10_col3, #T_c924d_row10_col4, #T_c924d_row10_col5, #T_c924d_row10_col6, #T_c924d_row10_col17, #T_c924d_row11_col0, #T_c924d_row11_col1, #T_c924d_row11_col2, #T_c924d_row11_col3, #T_c924d_row11_col4, #T_c924d_row11_col5, #T_c924d_row11_col6, #T_c924d_row11_col7, #T_c924d_row11_col8, #T_c924d_row11_col9, #T_c924d_row11_col17, #T_c924d_row12_col0, #T_c924d_row12_col1, #T_c924d_row12_col2, #T_c924d_row12_col3, #T_c924d_row12_col4, #T_c924d_row12_col5, #T_c924d_row12_col6, #T_c924d_row12_col7, #T_c924d_row12_col8, #T_c924d_row12_col9, #T_c924d_row12_col10, #T_c924d_row12_col11, #T_c924d_row12_col17, #T_c924d_row13_col0, #T_c924d_row13_col1, #T_c924d_row13_col2, #T_c924d_row13_col3, #T_c924d_row13_col4, #T_c924d_row13_col5, #T_c924d_row13_col6, #T_c924d_row13_col7, #T_c924d_row13_col8, #T_c924d_row13_col9, #T_c924d_row13_col10, #T_c924d_row13_col11, #T_c924d_row13_col12, #T_c924d_row13_col17, #T_c924d_row14_col0, #T_c924d_row14_col1, #T_c924d_row14_col2, #T_c924d_row14_col3, #T_c924d_row14_col4, #T_c924d_row14_col5, #T_c924d_row14_col6, #T_c924d_row14_col7, #T_c924d_row14_col8, #T_c924d_row14_col9, #T_c924d_row14_col10, #T_c924d_row14_col11, #T_c924d_row14_col17, #T_c924d_row15_col0, #T_c924d_row15_col1, #T_c924d_row15_col2, #T_c924d_row15_col3, #T_c924d_row15_col4, #T_c924d_row15_col5, #T_c924d_row15_col6, #T_c924d_row15_col7, #T_c924d_row15_col8, #T_c924d_row15_col9, #T_c924d_row15_col10, #T_c924d_row15_col17, #T_c924d_row16_col0, #T_c924d_row16_col1, #T_c924d_row16_col2, #T_c924d_row16_col3, #T_c924d_row16_col4, #T_c924d_row16_col5, #T_c924d_row16_col6, #T_c924d_row16_col7, #T_c924d_row16_col8, #T_c924d_row16_col9, #T_c924d_row16_col16, #T_c924d_row16_col17, #T_c924d_row17_col0, #T_c924d_row17_col1, #T_c924d_row17_col2, #T_c924d_row17_col3, #T_c924d_row17_col4, #T_c924d_row17_col5, #T_c924d_row17_col6, #T_c924d_row17_col7, #T_c924d_row17_col15, #T_c924d_row17_col16, #T_c924d_row17_col17 {\n",
              "  font-size: 6pt;\n",
              "  background-color: #f7fbff;\n",
              "  color: #000000;\n",
              "}\n",
              "#T_c924d_row1_col5 {\n",
              "  font-size: 6pt;\n",
              "  background-color: #ddeaf7;\n",
              "  color: #000000;\n",
              "}\n",
              "#T_c924d_row1_col6, #T_c924d_row1_col13 {\n",
              "  font-size: 6pt;\n",
              "  background-color: #4d99ca;\n",
              "  color: #f1f1f1;\n",
              "}\n",
              "#T_c924d_row1_col7 {\n",
              "  font-size: 6pt;\n",
              "  background-color: #1c6bb0;\n",
              "  color: #f1f1f1;\n",
              "}\n",
              "#T_c924d_row1_col8, #T_c924d_row1_col9, #T_c924d_row1_col10, #T_c924d_row2_col5, #T_c924d_row2_col6, #T_c924d_row2_col7, #T_c924d_row2_col11, #T_c924d_row2_col12, #T_c924d_row2_col13, #T_c924d_row3_col4, #T_c924d_row3_col12, #T_c924d_row3_col13, #T_c924d_row4_col1, #T_c924d_row4_col2, #T_c924d_row4_col3, #T_c924d_row4_col12, #T_c924d_row4_col13, #T_c924d_row5_col12, #T_c924d_row6_col11, #T_c924d_row9_col11, #T_c924d_row10_col11, #T_c924d_row10_col12, #T_c924d_row10_col13, #T_c924d_row10_col14, #T_c924d_row11_col13, #T_c924d_row11_col14, #T_c924d_row11_col15, #T_c924d_row12_col14, #T_c924d_row12_col15, #T_c924d_row12_col16, #T_c924d_row13_col14, #T_c924d_row13_col15, #T_c924d_row14_col14, #T_c924d_row14_col15, #T_c924d_row15_col13, #T_c924d_row15_col14, #T_c924d_row16_col12, #T_c924d_row16_col13, #T_c924d_row17_col11, #T_c924d_row17_col12 {\n",
              "  font-size: 6pt;\n",
              "  background-color: #08306b;\n",
              "  color: #f1f1f1;\n",
              "}\n",
              "#T_c924d_row1_col11 {\n",
              "  font-size: 6pt;\n",
              "  background-color: #2f7fbc;\n",
              "  color: #f1f1f1;\n",
              "}\n",
              "#T_c924d_row1_col12 {\n",
              "  font-size: 6pt;\n",
              "  background-color: #1e6db2;\n",
              "  color: #f1f1f1;\n",
              "}\n",
              "#T_c924d_row1_col14 {\n",
              "  font-size: 6pt;\n",
              "  background-color: #9cc9e1;\n",
              "  color: #000000;\n",
              "}\n",
              "#T_c924d_row2_col3 {\n",
              "  font-size: 6pt;\n",
              "  background-color: #d2e3f3;\n",
              "  color: #000000;\n",
              "}\n",
              "#T_c924d_row2_col4, #T_c924d_row8_col6 {\n",
              "  font-size: 6pt;\n",
              "  background-color: #3a8ac2;\n",
              "  color: #f1f1f1;\n",
              "}\n",
              "#T_c924d_row2_col8, #T_c924d_row2_col14, #T_c924d_row3_col14, #T_c924d_row17_col13 {\n",
              "  font-size: 6pt;\n",
              "  background-color: #08458a;\n",
              "  color: #f1f1f1;\n",
              "}\n",
              "#T_c924d_row2_col9, #T_c924d_row3_col11 {\n",
              "  font-size: 6pt;\n",
              "  background-color: #1d6cb1;\n",
              "  color: #f1f1f1;\n",
              "}\n",
              "#T_c924d_row2_col10, #T_c924d_row7_col10, #T_c924d_row8_col8, #T_c924d_row8_col10, #T_c924d_row9_col8, #T_c924d_row9_col10 {\n",
              "  font-size: 6pt;\n",
              "  background-color: #08316d;\n",
              "  color: #f1f1f1;\n",
              "}\n",
              "#T_c924d_row3_col1 {\n",
              "  font-size: 6pt;\n",
              "  background-color: #09529d;\n",
              "  color: #f1f1f1;\n",
              "}\n",
              "#T_c924d_row3_col2 {\n",
              "  font-size: 6pt;\n",
              "  background-color: #083979;\n",
              "  color: #f1f1f1;\n",
              "}\n",
              "#T_c924d_row3_col3, #T_c924d_row14_col13 {\n",
              "  font-size: 6pt;\n",
              "  background-color: #083471;\n",
              "  color: #f1f1f1;\n",
              "}\n",
              "#T_c924d_row3_col5 {\n",
              "  font-size: 6pt;\n",
              "  background-color: #105ba4;\n",
              "  color: #f1f1f1;\n",
              "}\n",
              "#T_c924d_row3_col6 {\n",
              "  font-size: 6pt;\n",
              "  background-color: #d3e4f3;\n",
              "  color: #000000;\n",
              "}\n",
              "#T_c924d_row3_col7, #T_c924d_row3_col10 {\n",
              "  font-size: 6pt;\n",
              "  background-color: #eff6fc;\n",
              "  color: #000000;\n",
              "}\n",
              "#T_c924d_row3_col8 {\n",
              "  font-size: 6pt;\n",
              "  background-color: #f1f7fd;\n",
              "  color: #000000;\n",
              "}\n",
              "#T_c924d_row3_col9 {\n",
              "  font-size: 6pt;\n",
              "  background-color: #f4f9fe;\n",
              "  color: #000000;\n",
              "}\n",
              "#T_c924d_row4_col4 {\n",
              "  font-size: 6pt;\n",
              "  background-color: #08488e;\n",
              "  color: #f1f1f1;\n",
              "}\n",
              "#T_c924d_row4_col5 {\n",
              "  font-size: 6pt;\n",
              "  background-color: #cde0f1;\n",
              "  color: #000000;\n",
              "}\n",
              "#T_c924d_row4_col11 {\n",
              "  font-size: 6pt;\n",
              "  background-color: #1f6eb3;\n",
              "  color: #f1f1f1;\n",
              "}\n",
              "#T_c924d_row4_col14 {\n",
              "  font-size: 6pt;\n",
              "  background-color: #4594c7;\n",
              "  color: #f1f1f1;\n",
              "}\n",
              "#T_c924d_row5_col1 {\n",
              "  font-size: 6pt;\n",
              "  background-color: #f2f7fd;\n",
              "  color: #000000;\n",
              "}\n",
              "#T_c924d_row5_col2, #T_c924d_row5_col3, #T_c924d_row15_col16 {\n",
              "  font-size: 6pt;\n",
              "  background-color: #e7f1fa;\n",
              "  color: #000000;\n",
              "}\n",
              "#T_c924d_row5_col4 {\n",
              "  font-size: 6pt;\n",
              "  background-color: #ebf3fb;\n",
              "  color: #000000;\n",
              "}\n",
              "#T_c924d_row5_col10, #T_c924d_row10_col7 {\n",
              "  font-size: 6pt;\n",
              "  background-color: #d6e5f4;\n",
              "  color: #000000;\n",
              "}\n",
              "#T_c924d_row5_col11 {\n",
              "  font-size: 6pt;\n",
              "  background-color: #084e98;\n",
              "  color: #f1f1f1;\n",
              "}\n",
              "#T_c924d_row5_col13, #T_c924d_row6_col12 {\n",
              "  font-size: 6pt;\n",
              "  background-color: #083877;\n",
              "  color: #f1f1f1;\n",
              "}\n",
              "#T_c924d_row5_col14 {\n",
              "  font-size: 6pt;\n",
              "  background-color: #b9d6ea;\n",
              "  color: #000000;\n",
              "}\n",
              "#T_c924d_row6_col10, #T_c924d_row7_col11, #T_c924d_row9_col6 {\n",
              "  font-size: 6pt;\n",
              "  background-color: #083573;\n",
              "  color: #f1f1f1;\n",
              "}\n",
              "#T_c924d_row6_col13 {\n",
              "  font-size: 6pt;\n",
              "  background-color: #6caed6;\n",
              "  color: #f1f1f1;\n",
              "}\n",
              "#T_c924d_row7_col7 {\n",
              "  font-size: 6pt;\n",
              "  background-color: #ecf4fb;\n",
              "  color: #000000;\n",
              "}\n",
              "#T_c924d_row7_col8 {\n",
              "  font-size: 6pt;\n",
              "  background-color: #95c5df;\n",
              "  color: #000000;\n",
              "}\n",
              "#T_c924d_row7_col9 {\n",
              "  font-size: 6pt;\n",
              "  background-color: #08519c;\n",
              "  color: #f1f1f1;\n",
              "}\n",
              "#T_c924d_row7_col12 {\n",
              "  font-size: 6pt;\n",
              "  background-color: #6fb0d7;\n",
              "  color: #f1f1f1;\n",
              "}\n",
              "#T_c924d_row8_col5 {\n",
              "  font-size: 6pt;\n",
              "  background-color: #eef5fc;\n",
              "  color: #000000;\n",
              "}\n",
              "#T_c924d_row8_col7 {\n",
              "  font-size: 6pt;\n",
              "  background-color: #083e81;\n",
              "  color: #f1f1f1;\n",
              "}\n",
              "#T_c924d_row8_col9, #T_c924d_row9_col9, #T_c924d_row17_col10 {\n",
              "  font-size: 6pt;\n",
              "  background-color: #08326e;\n",
              "  color: #f1f1f1;\n",
              "}\n",
              "#T_c924d_row8_col11, #T_c924d_row10_col15 {\n",
              "  font-size: 6pt;\n",
              "  background-color: #2373b6;\n",
              "  color: #f1f1f1;\n",
              "}\n",
              "#T_c924d_row8_col12 {\n",
              "  font-size: 6pt;\n",
              "  background-color: #dfecf7;\n",
              "  color: #000000;\n",
              "}\n",
              "#T_c924d_row9_col5 {\n",
              "  font-size: 6pt;\n",
              "  background-color: #e9f2fa;\n",
              "  color: #000000;\n",
              "}\n",
              "#T_c924d_row9_col7 {\n",
              "  font-size: 6pt;\n",
              "  background-color: #083370;\n",
              "  color: #f1f1f1;\n",
              "}\n",
              "#T_c924d_row9_col12 {\n",
              "  font-size: 6pt;\n",
              "  background-color: #08468b;\n",
              "  color: #f1f1f1;\n",
              "}\n",
              "#T_c924d_row9_col13 {\n",
              "  font-size: 6pt;\n",
              "  background-color: #0e59a2;\n",
              "  color: #f1f1f1;\n",
              "}\n",
              "#T_c924d_row9_col14 {\n",
              "  font-size: 6pt;\n",
              "  background-color: #84bcdb;\n",
              "  color: #000000;\n",
              "}\n",
              "#T_c924d_row9_col15 {\n",
              "  font-size: 6pt;\n",
              "  background-color: #f5fafe;\n",
              "  color: #000000;\n",
              "}\n",
              "#T_c924d_row10_col8, #T_c924d_row10_col9, #T_c924d_row16_col10 {\n",
              "  font-size: 6pt;\n",
              "  background-color: #9ac8e0;\n",
              "  color: #000000;\n",
              "}\n",
              "#T_c924d_row10_col10 {\n",
              "  font-size: 6pt;\n",
              "  background-color: #135fa7;\n",
              "  color: #f1f1f1;\n",
              "}\n",
              "#T_c924d_row10_col16 {\n",
              "  font-size: 6pt;\n",
              "  background-color: #d8e7f5;\n",
              "  color: #000000;\n",
              "}\n",
              "#T_c924d_row11_col10, #T_c924d_row16_col15 {\n",
              "  font-size: 6pt;\n",
              "  background-color: #f0f6fd;\n",
              "  color: #000000;\n",
              "}\n",
              "#T_c924d_row11_col11 {\n",
              "  font-size: 6pt;\n",
              "  background-color: #d0e1f2;\n",
              "  color: #000000;\n",
              "}\n",
              "#T_c924d_row11_col12 {\n",
              "  font-size: 6pt;\n",
              "  background-color: #77b5d9;\n",
              "  color: #000000;\n",
              "}\n",
              "#T_c924d_row11_col16 {\n",
              "  font-size: 6pt;\n",
              "  background-color: #5ca4d0;\n",
              "  color: #f1f1f1;\n",
              "}\n",
              "#T_c924d_row12_col12 {\n",
              "  font-size: 6pt;\n",
              "  background-color: #f6faff;\n",
              "  color: #000000;\n",
              "}\n",
              "#T_c924d_row12_col13 {\n",
              "  font-size: 6pt;\n",
              "  background-color: #2777b8;\n",
              "  color: #f1f1f1;\n",
              "}\n",
              "#T_c924d_row13_col13 {\n",
              "  font-size: 6pt;\n",
              "  background-color: #2979b9;\n",
              "  color: #f1f1f1;\n",
              "}\n",
              "#T_c924d_row13_col16 {\n",
              "  font-size: 6pt;\n",
              "  background-color: #2171b5;\n",
              "  color: #f1f1f1;\n",
              "}\n",
              "#T_c924d_row14_col12 {\n",
              "  font-size: 6pt;\n",
              "  background-color: #aacfe5;\n",
              "  color: #000000;\n",
              "}\n",
              "#T_c924d_row14_col16 {\n",
              "  font-size: 6pt;\n",
              "  background-color: #c3daee;\n",
              "  color: #000000;\n",
              "}\n",
              "#T_c924d_row15_col11 {\n",
              "  font-size: 6pt;\n",
              "  background-color: #c9ddf0;\n",
              "  color: #000000;\n",
              "}\n",
              "#T_c924d_row15_col12 {\n",
              "  font-size: 6pt;\n",
              "  background-color: #0e58a2;\n",
              "  color: #f1f1f1;\n",
              "}\n",
              "#T_c924d_row15_col15 {\n",
              "  font-size: 6pt;\n",
              "  background-color: #3282be;\n",
              "  color: #f1f1f1;\n",
              "}\n",
              "#T_c924d_row16_col11 {\n",
              "  font-size: 6pt;\n",
              "  background-color: #083674;\n",
              "  color: #f1f1f1;\n",
              "}\n",
              "#T_c924d_row16_col14 {\n",
              "  font-size: 6pt;\n",
              "  background-color: #084c95;\n",
              "  color: #f1f1f1;\n",
              "}\n",
              "#T_c924d_row17_col8 {\n",
              "  font-size: 6pt;\n",
              "  background-color: #d6e6f4;\n",
              "  color: #000000;\n",
              "}\n",
              "#T_c924d_row17_col9 {\n",
              "  font-size: 6pt;\n",
              "  background-color: #4e9acb;\n",
              "  color: #f1f1f1;\n",
              "}\n",
              "#T_c924d_row17_col14 {\n",
              "  font-size: 6pt;\n",
              "  background-color: #cee0f2;\n",
              "  color: #000000;\n",
              "}\n",
              "</style>\n",
              "<table id=\"T_c924d\" class=\"dataframe\">\n",
              "  <thead>\n",
              "    <tr>\n",
              "      <th class=\"blank level0\" >&nbsp;</th>\n",
              "      <th id=\"T_c924d_level0_col0\" class=\"col_heading level0 col0\" >0</th>\n",
              "      <th id=\"T_c924d_level0_col1\" class=\"col_heading level0 col1\" >1</th>\n",
              "      <th id=\"T_c924d_level0_col2\" class=\"col_heading level0 col2\" >2</th>\n",
              "      <th id=\"T_c924d_level0_col3\" class=\"col_heading level0 col3\" >3</th>\n",
              "      <th id=\"T_c924d_level0_col4\" class=\"col_heading level0 col4\" >4</th>\n",
              "      <th id=\"T_c924d_level0_col5\" class=\"col_heading level0 col5\" >5</th>\n",
              "      <th id=\"T_c924d_level0_col6\" class=\"col_heading level0 col6\" >6</th>\n",
              "      <th id=\"T_c924d_level0_col7\" class=\"col_heading level0 col7\" >7</th>\n",
              "      <th id=\"T_c924d_level0_col8\" class=\"col_heading level0 col8\" >8</th>\n",
              "      <th id=\"T_c924d_level0_col9\" class=\"col_heading level0 col9\" >9</th>\n",
              "      <th id=\"T_c924d_level0_col10\" class=\"col_heading level0 col10\" >10</th>\n",
              "      <th id=\"T_c924d_level0_col11\" class=\"col_heading level0 col11\" >11</th>\n",
              "      <th id=\"T_c924d_level0_col12\" class=\"col_heading level0 col12\" >12</th>\n",
              "      <th id=\"T_c924d_level0_col13\" class=\"col_heading level0 col13\" >13</th>\n",
              "      <th id=\"T_c924d_level0_col14\" class=\"col_heading level0 col14\" >14</th>\n",
              "      <th id=\"T_c924d_level0_col15\" class=\"col_heading level0 col15\" >15</th>\n",
              "      <th id=\"T_c924d_level0_col16\" class=\"col_heading level0 col16\" >16</th>\n",
              "      <th id=\"T_c924d_level0_col17\" class=\"col_heading level0 col17\" >17</th>\n",
              "    </tr>\n",
              "  </thead>\n",
              "  <tbody>\n",
              "    <tr>\n",
              "      <th id=\"T_c924d_level0_row0\" class=\"row_heading level0 row0\" >0</th>\n",
              "      <td id=\"T_c924d_row0_col0\" class=\"data row0 col0\" >0</td>\n",
              "      <td id=\"T_c924d_row0_col1\" class=\"data row0 col1\" >0</td>\n",
              "      <td id=\"T_c924d_row0_col2\" class=\"data row0 col2\" >0</td>\n",
              "      <td id=\"T_c924d_row0_col3\" class=\"data row0 col3\" >0</td>\n",
              "      <td id=\"T_c924d_row0_col4\" class=\"data row0 col4\" >0</td>\n",
              "      <td id=\"T_c924d_row0_col5\" class=\"data row0 col5\" >0</td>\n",
              "      <td id=\"T_c924d_row0_col6\" class=\"data row0 col6\" >0</td>\n",
              "      <td id=\"T_c924d_row0_col7\" class=\"data row0 col7\" >0</td>\n",
              "      <td id=\"T_c924d_row0_col8\" class=\"data row0 col8\" >0</td>\n",
              "      <td id=\"T_c924d_row0_col9\" class=\"data row0 col9\" >0</td>\n",
              "      <td id=\"T_c924d_row0_col10\" class=\"data row0 col10\" >0</td>\n",
              "      <td id=\"T_c924d_row0_col11\" class=\"data row0 col11\" >0</td>\n",
              "      <td id=\"T_c924d_row0_col12\" class=\"data row0 col12\" >0</td>\n",
              "      <td id=\"T_c924d_row0_col13\" class=\"data row0 col13\" >0</td>\n",
              "      <td id=\"T_c924d_row0_col14\" class=\"data row0 col14\" >0</td>\n",
              "      <td id=\"T_c924d_row0_col15\" class=\"data row0 col15\" >0</td>\n",
              "      <td id=\"T_c924d_row0_col16\" class=\"data row0 col16\" >0</td>\n",
              "      <td id=\"T_c924d_row0_col17\" class=\"data row0 col17\" >0</td>\n",
              "    </tr>\n",
              "    <tr>\n",
              "      <th id=\"T_c924d_level0_row1\" class=\"row_heading level0 row1\" >1</th>\n",
              "      <td id=\"T_c924d_row1_col0\" class=\"data row1 col0\" >0</td>\n",
              "      <td id=\"T_c924d_row1_col1\" class=\"data row1 col1\" >0</td>\n",
              "      <td id=\"T_c924d_row1_col2\" class=\"data row1 col2\" >0</td>\n",
              "      <td id=\"T_c924d_row1_col3\" class=\"data row1 col3\" >0</td>\n",
              "      <td id=\"T_c924d_row1_col4\" class=\"data row1 col4\" >0</td>\n",
              "      <td id=\"T_c924d_row1_col5\" class=\"data row1 col5\" >29</td>\n",
              "      <td id=\"T_c924d_row1_col6\" class=\"data row1 col6\" >150</td>\n",
              "      <td id=\"T_c924d_row1_col7\" class=\"data row1 col7\" >195</td>\n",
              "      <td id=\"T_c924d_row1_col8\" class=\"data row1 col8\" >254</td>\n",
              "      <td id=\"T_c924d_row1_col9\" class=\"data row1 col9\" >255</td>\n",
              "      <td id=\"T_c924d_row1_col10\" class=\"data row1 col10\" >254</td>\n",
              "      <td id=\"T_c924d_row1_col11\" class=\"data row1 col11\" >176</td>\n",
              "      <td id=\"T_c924d_row1_col12\" class=\"data row1 col12\" >193</td>\n",
              "      <td id=\"T_c924d_row1_col13\" class=\"data row1 col13\" >150</td>\n",
              "      <td id=\"T_c924d_row1_col14\" class=\"data row1 col14\" >96</td>\n",
              "      <td id=\"T_c924d_row1_col15\" class=\"data row1 col15\" >0</td>\n",
              "      <td id=\"T_c924d_row1_col16\" class=\"data row1 col16\" >0</td>\n",
              "      <td id=\"T_c924d_row1_col17\" class=\"data row1 col17\" >0</td>\n",
              "    </tr>\n",
              "    <tr>\n",
              "      <th id=\"T_c924d_level0_row2\" class=\"row_heading level0 row2\" >2</th>\n",
              "      <td id=\"T_c924d_row2_col0\" class=\"data row2 col0\" >0</td>\n",
              "      <td id=\"T_c924d_row2_col1\" class=\"data row2 col1\" >0</td>\n",
              "      <td id=\"T_c924d_row2_col2\" class=\"data row2 col2\" >0</td>\n",
              "      <td id=\"T_c924d_row2_col3\" class=\"data row2 col3\" >48</td>\n",
              "      <td id=\"T_c924d_row2_col4\" class=\"data row2 col4\" >166</td>\n",
              "      <td id=\"T_c924d_row2_col5\" class=\"data row2 col5\" >224</td>\n",
              "      <td id=\"T_c924d_row2_col6\" class=\"data row2 col6\" >253</td>\n",
              "      <td id=\"T_c924d_row2_col7\" class=\"data row2 col7\" >253</td>\n",
              "      <td id=\"T_c924d_row2_col8\" class=\"data row2 col8\" >234</td>\n",
              "      <td id=\"T_c924d_row2_col9\" class=\"data row2 col9\" >196</td>\n",
              "      <td id=\"T_c924d_row2_col10\" class=\"data row2 col10\" >253</td>\n",
              "      <td id=\"T_c924d_row2_col11\" class=\"data row2 col11\" >253</td>\n",
              "      <td id=\"T_c924d_row2_col12\" class=\"data row2 col12\" >253</td>\n",
              "      <td id=\"T_c924d_row2_col13\" class=\"data row2 col13\" >253</td>\n",
              "      <td id=\"T_c924d_row2_col14\" class=\"data row2 col14\" >233</td>\n",
              "      <td id=\"T_c924d_row2_col15\" class=\"data row2 col15\" >0</td>\n",
              "      <td id=\"T_c924d_row2_col16\" class=\"data row2 col16\" >0</td>\n",
              "      <td id=\"T_c924d_row2_col17\" class=\"data row2 col17\" >0</td>\n",
              "    </tr>\n",
              "    <tr>\n",
              "      <th id=\"T_c924d_level0_row3\" class=\"row_heading level0 row3\" >3</th>\n",
              "      <td id=\"T_c924d_row3_col0\" class=\"data row3 col0\" >0</td>\n",
              "      <td id=\"T_c924d_row3_col1\" class=\"data row3 col1\" >93</td>\n",
              "      <td id=\"T_c924d_row3_col2\" class=\"data row3 col2\" >244</td>\n",
              "      <td id=\"T_c924d_row3_col3\" class=\"data row3 col3\" >249</td>\n",
              "      <td id=\"T_c924d_row3_col4\" class=\"data row3 col4\" >253</td>\n",
              "      <td id=\"T_c924d_row3_col5\" class=\"data row3 col5\" >187</td>\n",
              "      <td id=\"T_c924d_row3_col6\" class=\"data row3 col6\" >46</td>\n",
              "      <td id=\"T_c924d_row3_col7\" class=\"data row3 col7\" >10</td>\n",
              "      <td id=\"T_c924d_row3_col8\" class=\"data row3 col8\" >8</td>\n",
              "      <td id=\"T_c924d_row3_col9\" class=\"data row3 col9\" >4</td>\n",
              "      <td id=\"T_c924d_row3_col10\" class=\"data row3 col10\" >10</td>\n",
              "      <td id=\"T_c924d_row3_col11\" class=\"data row3 col11\" >194</td>\n",
              "      <td id=\"T_c924d_row3_col12\" class=\"data row3 col12\" >253</td>\n",
              "      <td id=\"T_c924d_row3_col13\" class=\"data row3 col13\" >253</td>\n",
              "      <td id=\"T_c924d_row3_col14\" class=\"data row3 col14\" >233</td>\n",
              "      <td id=\"T_c924d_row3_col15\" class=\"data row3 col15\" >0</td>\n",
              "      <td id=\"T_c924d_row3_col16\" class=\"data row3 col16\" >0</td>\n",
              "      <td id=\"T_c924d_row3_col17\" class=\"data row3 col17\" >0</td>\n",
              "    </tr>\n",
              "    <tr>\n",
              "      <th id=\"T_c924d_level0_row4\" class=\"row_heading level0 row4\" >4</th>\n",
              "      <td id=\"T_c924d_row4_col0\" class=\"data row4 col0\" >0</td>\n",
              "      <td id=\"T_c924d_row4_col1\" class=\"data row4 col1\" >107</td>\n",
              "      <td id=\"T_c924d_row4_col2\" class=\"data row4 col2\" >253</td>\n",
              "      <td id=\"T_c924d_row4_col3\" class=\"data row4 col3\" >253</td>\n",
              "      <td id=\"T_c924d_row4_col4\" class=\"data row4 col4\" >230</td>\n",
              "      <td id=\"T_c924d_row4_col5\" class=\"data row4 col5\" >48</td>\n",
              "      <td id=\"T_c924d_row4_col6\" class=\"data row4 col6\" >0</td>\n",
              "      <td id=\"T_c924d_row4_col7\" class=\"data row4 col7\" >0</td>\n",
              "      <td id=\"T_c924d_row4_col8\" class=\"data row4 col8\" >0</td>\n",
              "      <td id=\"T_c924d_row4_col9\" class=\"data row4 col9\" >0</td>\n",
              "      <td id=\"T_c924d_row4_col10\" class=\"data row4 col10\" >0</td>\n",
              "      <td id=\"T_c924d_row4_col11\" class=\"data row4 col11\" >192</td>\n",
              "      <td id=\"T_c924d_row4_col12\" class=\"data row4 col12\" >253</td>\n",
              "      <td id=\"T_c924d_row4_col13\" class=\"data row4 col13\" >253</td>\n",
              "      <td id=\"T_c924d_row4_col14\" class=\"data row4 col14\" >156</td>\n",
              "      <td id=\"T_c924d_row4_col15\" class=\"data row4 col15\" >0</td>\n",
              "      <td id=\"T_c924d_row4_col16\" class=\"data row4 col16\" >0</td>\n",
              "      <td id=\"T_c924d_row4_col17\" class=\"data row4 col17\" >0</td>\n",
              "    </tr>\n",
              "    <tr>\n",
              "      <th id=\"T_c924d_level0_row5\" class=\"row_heading level0 row5\" >5</th>\n",
              "      <td id=\"T_c924d_row5_col0\" class=\"data row5 col0\" >0</td>\n",
              "      <td id=\"T_c924d_row5_col1\" class=\"data row5 col1\" >3</td>\n",
              "      <td id=\"T_c924d_row5_col2\" class=\"data row5 col2\" >20</td>\n",
              "      <td id=\"T_c924d_row5_col3\" class=\"data row5 col3\" >20</td>\n",
              "      <td id=\"T_c924d_row5_col4\" class=\"data row5 col4\" >15</td>\n",
              "      <td id=\"T_c924d_row5_col5\" class=\"data row5 col5\" >0</td>\n",
              "      <td id=\"T_c924d_row5_col6\" class=\"data row5 col6\" >0</td>\n",
              "      <td id=\"T_c924d_row5_col7\" class=\"data row5 col7\" >0</td>\n",
              "      <td id=\"T_c924d_row5_col8\" class=\"data row5 col8\" >0</td>\n",
              "      <td id=\"T_c924d_row5_col9\" class=\"data row5 col9\" >0</td>\n",
              "      <td id=\"T_c924d_row5_col10\" class=\"data row5 col10\" >43</td>\n",
              "      <td id=\"T_c924d_row5_col11\" class=\"data row5 col11\" >224</td>\n",
              "      <td id=\"T_c924d_row5_col12\" class=\"data row5 col12\" >253</td>\n",
              "      <td id=\"T_c924d_row5_col13\" class=\"data row5 col13\" >245</td>\n",
              "      <td id=\"T_c924d_row5_col14\" class=\"data row5 col14\" >74</td>\n",
              "      <td id=\"T_c924d_row5_col15\" class=\"data row5 col15\" >0</td>\n",
              "      <td id=\"T_c924d_row5_col16\" class=\"data row5 col16\" >0</td>\n",
              "      <td id=\"T_c924d_row5_col17\" class=\"data row5 col17\" >0</td>\n",
              "    </tr>\n",
              "    <tr>\n",
              "      <th id=\"T_c924d_level0_row6\" class=\"row_heading level0 row6\" >6</th>\n",
              "      <td id=\"T_c924d_row6_col0\" class=\"data row6 col0\" >0</td>\n",
              "      <td id=\"T_c924d_row6_col1\" class=\"data row6 col1\" >0</td>\n",
              "      <td id=\"T_c924d_row6_col2\" class=\"data row6 col2\" >0</td>\n",
              "      <td id=\"T_c924d_row6_col3\" class=\"data row6 col3\" >0</td>\n",
              "      <td id=\"T_c924d_row6_col4\" class=\"data row6 col4\" >0</td>\n",
              "      <td id=\"T_c924d_row6_col5\" class=\"data row6 col5\" >0</td>\n",
              "      <td id=\"T_c924d_row6_col6\" class=\"data row6 col6\" >0</td>\n",
              "      <td id=\"T_c924d_row6_col7\" class=\"data row6 col7\" >0</td>\n",
              "      <td id=\"T_c924d_row6_col8\" class=\"data row6 col8\" >0</td>\n",
              "      <td id=\"T_c924d_row6_col9\" class=\"data row6 col9\" >0</td>\n",
              "      <td id=\"T_c924d_row6_col10\" class=\"data row6 col10\" >249</td>\n",
              "      <td id=\"T_c924d_row6_col11\" class=\"data row6 col11\" >253</td>\n",
              "      <td id=\"T_c924d_row6_col12\" class=\"data row6 col12\" >245</td>\n",
              "      <td id=\"T_c924d_row6_col13\" class=\"data row6 col13\" >126</td>\n",
              "      <td id=\"T_c924d_row6_col14\" class=\"data row6 col14\" >0</td>\n",
              "      <td id=\"T_c924d_row6_col15\" class=\"data row6 col15\" >0</td>\n",
              "      <td id=\"T_c924d_row6_col16\" class=\"data row6 col16\" >0</td>\n",
              "      <td id=\"T_c924d_row6_col17\" class=\"data row6 col17\" >0</td>\n",
              "    </tr>\n",
              "    <tr>\n",
              "      <th id=\"T_c924d_level0_row7\" class=\"row_heading level0 row7\" >7</th>\n",
              "      <td id=\"T_c924d_row7_col0\" class=\"data row7 col0\" >0</td>\n",
              "      <td id=\"T_c924d_row7_col1\" class=\"data row7 col1\" >0</td>\n",
              "      <td id=\"T_c924d_row7_col2\" class=\"data row7 col2\" >0</td>\n",
              "      <td id=\"T_c924d_row7_col3\" class=\"data row7 col3\" >0</td>\n",
              "      <td id=\"T_c924d_row7_col4\" class=\"data row7 col4\" >0</td>\n",
              "      <td id=\"T_c924d_row7_col5\" class=\"data row7 col5\" >0</td>\n",
              "      <td id=\"T_c924d_row7_col6\" class=\"data row7 col6\" >0</td>\n",
              "      <td id=\"T_c924d_row7_col7\" class=\"data row7 col7\" >14</td>\n",
              "      <td id=\"T_c924d_row7_col8\" class=\"data row7 col8\" >101</td>\n",
              "      <td id=\"T_c924d_row7_col9\" class=\"data row7 col9\" >223</td>\n",
              "      <td id=\"T_c924d_row7_col10\" class=\"data row7 col10\" >253</td>\n",
              "      <td id=\"T_c924d_row7_col11\" class=\"data row7 col11\" >248</td>\n",
              "      <td id=\"T_c924d_row7_col12\" class=\"data row7 col12\" >124</td>\n",
              "      <td id=\"T_c924d_row7_col13\" class=\"data row7 col13\" >0</td>\n",
              "      <td id=\"T_c924d_row7_col14\" class=\"data row7 col14\" >0</td>\n",
              "      <td id=\"T_c924d_row7_col15\" class=\"data row7 col15\" >0</td>\n",
              "      <td id=\"T_c924d_row7_col16\" class=\"data row7 col16\" >0</td>\n",
              "      <td id=\"T_c924d_row7_col17\" class=\"data row7 col17\" >0</td>\n",
              "    </tr>\n",
              "    <tr>\n",
              "      <th id=\"T_c924d_level0_row8\" class=\"row_heading level0 row8\" >8</th>\n",
              "      <td id=\"T_c924d_row8_col0\" class=\"data row8 col0\" >0</td>\n",
              "      <td id=\"T_c924d_row8_col1\" class=\"data row8 col1\" >0</td>\n",
              "      <td id=\"T_c924d_row8_col2\" class=\"data row8 col2\" >0</td>\n",
              "      <td id=\"T_c924d_row8_col3\" class=\"data row8 col3\" >0</td>\n",
              "      <td id=\"T_c924d_row8_col4\" class=\"data row8 col4\" >0</td>\n",
              "      <td id=\"T_c924d_row8_col5\" class=\"data row8 col5\" >11</td>\n",
              "      <td id=\"T_c924d_row8_col6\" class=\"data row8 col6\" >166</td>\n",
              "      <td id=\"T_c924d_row8_col7\" class=\"data row8 col7\" >239</td>\n",
              "      <td id=\"T_c924d_row8_col8\" class=\"data row8 col8\" >253</td>\n",
              "      <td id=\"T_c924d_row8_col9\" class=\"data row8 col9\" >253</td>\n",
              "      <td id=\"T_c924d_row8_col10\" class=\"data row8 col10\" >253</td>\n",
              "      <td id=\"T_c924d_row8_col11\" class=\"data row8 col11\" >187</td>\n",
              "      <td id=\"T_c924d_row8_col12\" class=\"data row8 col12\" >30</td>\n",
              "      <td id=\"T_c924d_row8_col13\" class=\"data row8 col13\" >0</td>\n",
              "      <td id=\"T_c924d_row8_col14\" class=\"data row8 col14\" >0</td>\n",
              "      <td id=\"T_c924d_row8_col15\" class=\"data row8 col15\" >0</td>\n",
              "      <td id=\"T_c924d_row8_col16\" class=\"data row8 col16\" >0</td>\n",
              "      <td id=\"T_c924d_row8_col17\" class=\"data row8 col17\" >0</td>\n",
              "    </tr>\n",
              "    <tr>\n",
              "      <th id=\"T_c924d_level0_row9\" class=\"row_heading level0 row9\" >9</th>\n",
              "      <td id=\"T_c924d_row9_col0\" class=\"data row9 col0\" >0</td>\n",
              "      <td id=\"T_c924d_row9_col1\" class=\"data row9 col1\" >0</td>\n",
              "      <td id=\"T_c924d_row9_col2\" class=\"data row9 col2\" >0</td>\n",
              "      <td id=\"T_c924d_row9_col3\" class=\"data row9 col3\" >0</td>\n",
              "      <td id=\"T_c924d_row9_col4\" class=\"data row9 col4\" >0</td>\n",
              "      <td id=\"T_c924d_row9_col5\" class=\"data row9 col5\" >16</td>\n",
              "      <td id=\"T_c924d_row9_col6\" class=\"data row9 col6\" >248</td>\n",
              "      <td id=\"T_c924d_row9_col7\" class=\"data row9 col7\" >250</td>\n",
              "      <td id=\"T_c924d_row9_col8\" class=\"data row9 col8\" >253</td>\n",
              "      <td id=\"T_c924d_row9_col9\" class=\"data row9 col9\" >253</td>\n",
              "      <td id=\"T_c924d_row9_col10\" class=\"data row9 col10\" >253</td>\n",
              "      <td id=\"T_c924d_row9_col11\" class=\"data row9 col11\" >253</td>\n",
              "      <td id=\"T_c924d_row9_col12\" class=\"data row9 col12\" >232</td>\n",
              "      <td id=\"T_c924d_row9_col13\" class=\"data row9 col13\" >213</td>\n",
              "      <td id=\"T_c924d_row9_col14\" class=\"data row9 col14\" >111</td>\n",
              "      <td id=\"T_c924d_row9_col15\" class=\"data row9 col15\" >2</td>\n",
              "      <td id=\"T_c924d_row9_col16\" class=\"data row9 col16\" >0</td>\n",
              "      <td id=\"T_c924d_row9_col17\" class=\"data row9 col17\" >0</td>\n",
              "    </tr>\n",
              "    <tr>\n",
              "      <th id=\"T_c924d_level0_row10\" class=\"row_heading level0 row10\" >10</th>\n",
              "      <td id=\"T_c924d_row10_col0\" class=\"data row10 col0\" >0</td>\n",
              "      <td id=\"T_c924d_row10_col1\" class=\"data row10 col1\" >0</td>\n",
              "      <td id=\"T_c924d_row10_col2\" class=\"data row10 col2\" >0</td>\n",
              "      <td id=\"T_c924d_row10_col3\" class=\"data row10 col3\" >0</td>\n",
              "      <td id=\"T_c924d_row10_col4\" class=\"data row10 col4\" >0</td>\n",
              "      <td id=\"T_c924d_row10_col5\" class=\"data row10 col5\" >0</td>\n",
              "      <td id=\"T_c924d_row10_col6\" class=\"data row10 col6\" >0</td>\n",
              "      <td id=\"T_c924d_row10_col7\" class=\"data row10 col7\" >43</td>\n",
              "      <td id=\"T_c924d_row10_col8\" class=\"data row10 col8\" >98</td>\n",
              "      <td id=\"T_c924d_row10_col9\" class=\"data row10 col9\" >98</td>\n",
              "      <td id=\"T_c924d_row10_col10\" class=\"data row10 col10\" >208</td>\n",
              "      <td id=\"T_c924d_row10_col11\" class=\"data row10 col11\" >253</td>\n",
              "      <td id=\"T_c924d_row10_col12\" class=\"data row10 col12\" >253</td>\n",
              "      <td id=\"T_c924d_row10_col13\" class=\"data row10 col13\" >253</td>\n",
              "      <td id=\"T_c924d_row10_col14\" class=\"data row10 col14\" >253</td>\n",
              "      <td id=\"T_c924d_row10_col15\" class=\"data row10 col15\" >187</td>\n",
              "      <td id=\"T_c924d_row10_col16\" class=\"data row10 col16\" >22</td>\n",
              "      <td id=\"T_c924d_row10_col17\" class=\"data row10 col17\" >0</td>\n",
              "    </tr>\n",
              "    <tr>\n",
              "      <th id=\"T_c924d_level0_row11\" class=\"row_heading level0 row11\" >11</th>\n",
              "      <td id=\"T_c924d_row11_col0\" class=\"data row11 col0\" >0</td>\n",
              "      <td id=\"T_c924d_row11_col1\" class=\"data row11 col1\" >0</td>\n",
              "      <td id=\"T_c924d_row11_col2\" class=\"data row11 col2\" >0</td>\n",
              "      <td id=\"T_c924d_row11_col3\" class=\"data row11 col3\" >0</td>\n",
              "      <td id=\"T_c924d_row11_col4\" class=\"data row11 col4\" >0</td>\n",
              "      <td id=\"T_c924d_row11_col5\" class=\"data row11 col5\" >0</td>\n",
              "      <td id=\"T_c924d_row11_col6\" class=\"data row11 col6\" >0</td>\n",
              "      <td id=\"T_c924d_row11_col7\" class=\"data row11 col7\" >0</td>\n",
              "      <td id=\"T_c924d_row11_col8\" class=\"data row11 col8\" >0</td>\n",
              "      <td id=\"T_c924d_row11_col9\" class=\"data row11 col9\" >0</td>\n",
              "      <td id=\"T_c924d_row11_col10\" class=\"data row11 col10\" >9</td>\n",
              "      <td id=\"T_c924d_row11_col11\" class=\"data row11 col11\" >51</td>\n",
              "      <td id=\"T_c924d_row11_col12\" class=\"data row11 col12\" >119</td>\n",
              "      <td id=\"T_c924d_row11_col13\" class=\"data row11 col13\" >253</td>\n",
              "      <td id=\"T_c924d_row11_col14\" class=\"data row11 col14\" >253</td>\n",
              "      <td id=\"T_c924d_row11_col15\" class=\"data row11 col15\" >253</td>\n",
              "      <td id=\"T_c924d_row11_col16\" class=\"data row11 col16\" >76</td>\n",
              "      <td id=\"T_c924d_row11_col17\" class=\"data row11 col17\" >0</td>\n",
              "    </tr>\n",
              "    <tr>\n",
              "      <th id=\"T_c924d_level0_row12\" class=\"row_heading level0 row12\" >12</th>\n",
              "      <td id=\"T_c924d_row12_col0\" class=\"data row12 col0\" >0</td>\n",
              "      <td id=\"T_c924d_row12_col1\" class=\"data row12 col1\" >0</td>\n",
              "      <td id=\"T_c924d_row12_col2\" class=\"data row12 col2\" >0</td>\n",
              "      <td id=\"T_c924d_row12_col3\" class=\"data row12 col3\" >0</td>\n",
              "      <td id=\"T_c924d_row12_col4\" class=\"data row12 col4\" >0</td>\n",
              "      <td id=\"T_c924d_row12_col5\" class=\"data row12 col5\" >0</td>\n",
              "      <td id=\"T_c924d_row12_col6\" class=\"data row12 col6\" >0</td>\n",
              "      <td id=\"T_c924d_row12_col7\" class=\"data row12 col7\" >0</td>\n",
              "      <td id=\"T_c924d_row12_col8\" class=\"data row12 col8\" >0</td>\n",
              "      <td id=\"T_c924d_row12_col9\" class=\"data row12 col9\" >0</td>\n",
              "      <td id=\"T_c924d_row12_col10\" class=\"data row12 col10\" >0</td>\n",
              "      <td id=\"T_c924d_row12_col11\" class=\"data row12 col11\" >0</td>\n",
              "      <td id=\"T_c924d_row12_col12\" class=\"data row12 col12\" >1</td>\n",
              "      <td id=\"T_c924d_row12_col13\" class=\"data row12 col13\" >183</td>\n",
              "      <td id=\"T_c924d_row12_col14\" class=\"data row12 col14\" >253</td>\n",
              "      <td id=\"T_c924d_row12_col15\" class=\"data row12 col15\" >253</td>\n",
              "      <td id=\"T_c924d_row12_col16\" class=\"data row12 col16\" >139</td>\n",
              "      <td id=\"T_c924d_row12_col17\" class=\"data row12 col17\" >0</td>\n",
              "    </tr>\n",
              "    <tr>\n",
              "      <th id=\"T_c924d_level0_row13\" class=\"row_heading level0 row13\" >13</th>\n",
              "      <td id=\"T_c924d_row13_col0\" class=\"data row13 col0\" >0</td>\n",
              "      <td id=\"T_c924d_row13_col1\" class=\"data row13 col1\" >0</td>\n",
              "      <td id=\"T_c924d_row13_col2\" class=\"data row13 col2\" >0</td>\n",
              "      <td id=\"T_c924d_row13_col3\" class=\"data row13 col3\" >0</td>\n",
              "      <td id=\"T_c924d_row13_col4\" class=\"data row13 col4\" >0</td>\n",
              "      <td id=\"T_c924d_row13_col5\" class=\"data row13 col5\" >0</td>\n",
              "      <td id=\"T_c924d_row13_col6\" class=\"data row13 col6\" >0</td>\n",
              "      <td id=\"T_c924d_row13_col7\" class=\"data row13 col7\" >0</td>\n",
              "      <td id=\"T_c924d_row13_col8\" class=\"data row13 col8\" >0</td>\n",
              "      <td id=\"T_c924d_row13_col9\" class=\"data row13 col9\" >0</td>\n",
              "      <td id=\"T_c924d_row13_col10\" class=\"data row13 col10\" >0</td>\n",
              "      <td id=\"T_c924d_row13_col11\" class=\"data row13 col11\" >0</td>\n",
              "      <td id=\"T_c924d_row13_col12\" class=\"data row13 col12\" >0</td>\n",
              "      <td id=\"T_c924d_row13_col13\" class=\"data row13 col13\" >182</td>\n",
              "      <td id=\"T_c924d_row13_col14\" class=\"data row13 col14\" >253</td>\n",
              "      <td id=\"T_c924d_row13_col15\" class=\"data row13 col15\" >253</td>\n",
              "      <td id=\"T_c924d_row13_col16\" class=\"data row13 col16\" >104</td>\n",
              "      <td id=\"T_c924d_row13_col17\" class=\"data row13 col17\" >0</td>\n",
              "    </tr>\n",
              "    <tr>\n",
              "      <th id=\"T_c924d_level0_row14\" class=\"row_heading level0 row14\" >14</th>\n",
              "      <td id=\"T_c924d_row14_col0\" class=\"data row14 col0\" >0</td>\n",
              "      <td id=\"T_c924d_row14_col1\" class=\"data row14 col1\" >0</td>\n",
              "      <td id=\"T_c924d_row14_col2\" class=\"data row14 col2\" >0</td>\n",
              "      <td id=\"T_c924d_row14_col3\" class=\"data row14 col3\" >0</td>\n",
              "      <td id=\"T_c924d_row14_col4\" class=\"data row14 col4\" >0</td>\n",
              "      <td id=\"T_c924d_row14_col5\" class=\"data row14 col5\" >0</td>\n",
              "      <td id=\"T_c924d_row14_col6\" class=\"data row14 col6\" >0</td>\n",
              "      <td id=\"T_c924d_row14_col7\" class=\"data row14 col7\" >0</td>\n",
              "      <td id=\"T_c924d_row14_col8\" class=\"data row14 col8\" >0</td>\n",
              "      <td id=\"T_c924d_row14_col9\" class=\"data row14 col9\" >0</td>\n",
              "      <td id=\"T_c924d_row14_col10\" class=\"data row14 col10\" >0</td>\n",
              "      <td id=\"T_c924d_row14_col11\" class=\"data row14 col11\" >0</td>\n",
              "      <td id=\"T_c924d_row14_col12\" class=\"data row14 col12\" >85</td>\n",
              "      <td id=\"T_c924d_row14_col13\" class=\"data row14 col13\" >249</td>\n",
              "      <td id=\"T_c924d_row14_col14\" class=\"data row14 col14\" >253</td>\n",
              "      <td id=\"T_c924d_row14_col15\" class=\"data row14 col15\" >253</td>\n",
              "      <td id=\"T_c924d_row14_col16\" class=\"data row14 col16\" >36</td>\n",
              "      <td id=\"T_c924d_row14_col17\" class=\"data row14 col17\" >0</td>\n",
              "    </tr>\n",
              "    <tr>\n",
              "      <th id=\"T_c924d_level0_row15\" class=\"row_heading level0 row15\" >15</th>\n",
              "      <td id=\"T_c924d_row15_col0\" class=\"data row15 col0\" >0</td>\n",
              "      <td id=\"T_c924d_row15_col1\" class=\"data row15 col1\" >0</td>\n",
              "      <td id=\"T_c924d_row15_col2\" class=\"data row15 col2\" >0</td>\n",
              "      <td id=\"T_c924d_row15_col3\" class=\"data row15 col3\" >0</td>\n",
              "      <td id=\"T_c924d_row15_col4\" class=\"data row15 col4\" >0</td>\n",
              "      <td id=\"T_c924d_row15_col5\" class=\"data row15 col5\" >0</td>\n",
              "      <td id=\"T_c924d_row15_col6\" class=\"data row15 col6\" >0</td>\n",
              "      <td id=\"T_c924d_row15_col7\" class=\"data row15 col7\" >0</td>\n",
              "      <td id=\"T_c924d_row15_col8\" class=\"data row15 col8\" >0</td>\n",
              "      <td id=\"T_c924d_row15_col9\" class=\"data row15 col9\" >0</td>\n",
              "      <td id=\"T_c924d_row15_col10\" class=\"data row15 col10\" >0</td>\n",
              "      <td id=\"T_c924d_row15_col11\" class=\"data row15 col11\" >60</td>\n",
              "      <td id=\"T_c924d_row15_col12\" class=\"data row15 col12\" >214</td>\n",
              "      <td id=\"T_c924d_row15_col13\" class=\"data row15 col13\" >253</td>\n",
              "      <td id=\"T_c924d_row15_col14\" class=\"data row15 col14\" >253</td>\n",
              "      <td id=\"T_c924d_row15_col15\" class=\"data row15 col15\" >173</td>\n",
              "      <td id=\"T_c924d_row15_col16\" class=\"data row15 col16\" >11</td>\n",
              "      <td id=\"T_c924d_row15_col17\" class=\"data row15 col17\" >0</td>\n",
              "    </tr>\n",
              "    <tr>\n",
              "      <th id=\"T_c924d_level0_row16\" class=\"row_heading level0 row16\" >16</th>\n",
              "      <td id=\"T_c924d_row16_col0\" class=\"data row16 col0\" >0</td>\n",
              "      <td id=\"T_c924d_row16_col1\" class=\"data row16 col1\" >0</td>\n",
              "      <td id=\"T_c924d_row16_col2\" class=\"data row16 col2\" >0</td>\n",
              "      <td id=\"T_c924d_row16_col3\" class=\"data row16 col3\" >0</td>\n",
              "      <td id=\"T_c924d_row16_col4\" class=\"data row16 col4\" >0</td>\n",
              "      <td id=\"T_c924d_row16_col5\" class=\"data row16 col5\" >0</td>\n",
              "      <td id=\"T_c924d_row16_col6\" class=\"data row16 col6\" >0</td>\n",
              "      <td id=\"T_c924d_row16_col7\" class=\"data row16 col7\" >0</td>\n",
              "      <td id=\"T_c924d_row16_col8\" class=\"data row16 col8\" >0</td>\n",
              "      <td id=\"T_c924d_row16_col9\" class=\"data row16 col9\" >0</td>\n",
              "      <td id=\"T_c924d_row16_col10\" class=\"data row16 col10\" >98</td>\n",
              "      <td id=\"T_c924d_row16_col11\" class=\"data row16 col11\" >247</td>\n",
              "      <td id=\"T_c924d_row16_col12\" class=\"data row16 col12\" >253</td>\n",
              "      <td id=\"T_c924d_row16_col13\" class=\"data row16 col13\" >253</td>\n",
              "      <td id=\"T_c924d_row16_col14\" class=\"data row16 col14\" >226</td>\n",
              "      <td id=\"T_c924d_row16_col15\" class=\"data row16 col15\" >9</td>\n",
              "      <td id=\"T_c924d_row16_col16\" class=\"data row16 col16\" >0</td>\n",
              "      <td id=\"T_c924d_row16_col17\" class=\"data row16 col17\" >0</td>\n",
              "    </tr>\n",
              "    <tr>\n",
              "      <th id=\"T_c924d_level0_row17\" class=\"row_heading level0 row17\" >17</th>\n",
              "      <td id=\"T_c924d_row17_col0\" class=\"data row17 col0\" >0</td>\n",
              "      <td id=\"T_c924d_row17_col1\" class=\"data row17 col1\" >0</td>\n",
              "      <td id=\"T_c924d_row17_col2\" class=\"data row17 col2\" >0</td>\n",
              "      <td id=\"T_c924d_row17_col3\" class=\"data row17 col3\" >0</td>\n",
              "      <td id=\"T_c924d_row17_col4\" class=\"data row17 col4\" >0</td>\n",
              "      <td id=\"T_c924d_row17_col5\" class=\"data row17 col5\" >0</td>\n",
              "      <td id=\"T_c924d_row17_col6\" class=\"data row17 col6\" >0</td>\n",
              "      <td id=\"T_c924d_row17_col7\" class=\"data row17 col7\" >0</td>\n",
              "      <td id=\"T_c924d_row17_col8\" class=\"data row17 col8\" >42</td>\n",
              "      <td id=\"T_c924d_row17_col9\" class=\"data row17 col9\" >150</td>\n",
              "      <td id=\"T_c924d_row17_col10\" class=\"data row17 col10\" >252</td>\n",
              "      <td id=\"T_c924d_row17_col11\" class=\"data row17 col11\" >253</td>\n",
              "      <td id=\"T_c924d_row17_col12\" class=\"data row17 col12\" >253</td>\n",
              "      <td id=\"T_c924d_row17_col13\" class=\"data row17 col13\" >233</td>\n",
              "      <td id=\"T_c924d_row17_col14\" class=\"data row17 col14\" >53</td>\n",
              "      <td id=\"T_c924d_row17_col15\" class=\"data row17 col15\" >0</td>\n",
              "      <td id=\"T_c924d_row17_col16\" class=\"data row17 col16\" >0</td>\n",
              "      <td id=\"T_c924d_row17_col17\" class=\"data row17 col17\" >0</td>\n",
              "    </tr>\n",
              "  </tbody>\n",
              "</table>\n"
            ]
          },
          "metadata": {},
          "execution_count": 19
        }
      ]
    },
    {
      "cell_type": "markdown",
      "source": [
        "## Baseline model\n",
        "\n",
        "We will create a baseline model. we find the average pixel value for every pixel of the 3s, then do the same for the 7s. This will give us two group averages, defining what we might call the “ideal” 3 and 7."
      ],
      "metadata": {
        "id": "32X3BSxb9mB6"
      }
    },
    {
      "cell_type": "code",
      "source": [
        "seven_tensors = [tensor(Image.open(o)) for o in sevens]\n",
        "three_tensors = [tensor(Image.open(o)) for o in threes]\n",
        "len(three_tensors),len(seven_tensors)"
      ],
      "metadata": {
        "colab": {
          "base_uri": "https://localhost:8080/"
        },
        "id": "WHkDymzJ9yvX",
        "outputId": "f956f004-6b09-4b5c-cada-84f1270d7c84"
      },
      "execution_count": null,
      "outputs": [
        {
          "output_type": "execute_result",
          "data": {
            "text/plain": [
              "(6131, 6265)"
            ]
          },
          "metadata": {},
          "execution_count": 14
        }
      ]
    },
    {
      "cell_type": "code",
      "source": [
        "show_image(three_tensors[1]);"
      ],
      "metadata": {
        "colab": {
          "base_uri": "https://localhost:8080/",
          "height": 114
        },
        "id": "RScM3orS-I9_",
        "outputId": "914dd835-55aa-44b2-c0a9-a715e83dedf0"
      },
      "execution_count": null,
      "outputs": [
        {
          "output_type": "display_data",
          "data": {
            "text/plain": [
              "<Figure size 100x100 with 1 Axes>"
            ],
            "image/png": "[encoded data removed]"
          },
          "metadata": {}
        }
      ]
    },
    {
      "cell_type": "markdown",
      "source": [
        "For every pixel position, we want to compute the average over all the images of the intensity of that pixel. To do this we first combine all the images in this list into a single three-dimensional tensor. The most common way to describe such a tensor is to call it a rank-3 tensor. We often need to stack up individual tensors in a collection into a single tensor. Unsurprisingly, PyTorch comes with a function called stack that we can use for this purpose."
      ],
      "metadata": {
        "id": "PG_y3qHp-gdx"
      }
    },
    {
      "cell_type": "code",
      "source": [
        "stacked_sevens = torch.stack(seven_tensors).float()/255\n",
        "stacked_threes = torch.stack(three_tensors).float()/255\n",
        "stacked_threes.shape"
      ],
      "metadata": {
        "colab": {
          "base_uri": "https://localhost:8080/"
        },
        "id": "k6y-bK-bHLNg",
        "outputId": "4a70dd74-d87c-4475-f076-fc0083119ea9"
      },
      "execution_count": 20,
      "outputs": [
        {
          "output_type": "execute_result",
          "data": {
            "text/plain": [
              "torch.Size([6131, 28, 28])"
            ]
          },
          "metadata": {},
          "execution_count": 20
        }
      ]
    },
    {
      "cell_type": "code",
      "source": [
        "len(stacked_threes.shape)\n",
        "# stacked_threes.ndim   //another way to get rank"
      ],
      "metadata": {
        "colab": {
          "base_uri": "https://localhost:8080/"
        },
        "id": "5Iu83ec6HVKD",
        "outputId": "31c06dd1-0414-43e6-8d9a-9bb7ceeb8ee9"
      },
      "execution_count": 21,
      "outputs": [
        {
          "output_type": "execute_result",
          "data": {
            "text/plain": [
              "3"
            ]
          },
          "metadata": {},
          "execution_count": 21
        }
      ]
    },
    {
      "cell_type": "code",
      "source": [
        "mean3 = stacked_threes.mean(0)\n",
        "show_image(mean3);"
      ],
      "metadata": {
        "colab": {
          "base_uri": "https://localhost:8080/",
          "height": 114
        },
        "id": "VXvRzo4aHni3",
        "outputId": "97da3585-591b-498b-cdaf-3490e93c0606"
      },
      "execution_count": 22,
      "outputs": [
        {
          "output_type": "display_data",
          "data": {
            "text/plain": [
              "<Figure size 100x100 with 1 Axes>"
            ],
            "image/png": "[encoded data removed]"
          },
          "metadata": {}
        }
      ]
    },
    {
      "cell_type": "code",
      "source": [
        "mean7 = stacked_sevens.mean(0)\n",
        "show_image(mean7);"
      ],
      "metadata": {
        "colab": {
          "base_uri": "https://localhost:8080/",
          "height": 114
        },
        "id": "9XJDEuGwHq8i",
        "outputId": "f6fcafee-523c-4a99-932d-a9cdc5935f20"
      },
      "execution_count": 23,
      "outputs": [
        {
          "output_type": "display_data",
          "data": {
            "text/plain": [
              "<Figure size 100x100 with 1 Axes>"
            ],
            "image/png": "[encoded data removed]"
          },
          "metadata": {}
        }
      ]
    },
    {
      "cell_type": "markdown",
      "source": [
        "Let's now pick an arbitrary 3 and measure its distance from our “ideal digits.”  \n",
        "\n",
        "How can we determine its distance from our ideal 3? We can’t just add up the differences between the pixels of this image and the ideal digit."
      ],
      "metadata": {
        "id": "f99EO6wDHu4C"
      }
    },
    {
      "cell_type": "code",
      "source": [
        "a_3 = stacked_threes[1]\n",
        "show_image(a_3);"
      ],
      "metadata": {
        "colab": {
          "base_uri": "https://localhost:8080/",
          "height": 114
        },
        "id": "5rRf7h8VHwt3",
        "outputId": "42cb7175-fb7e-41c2-bdbd-2ad66dfdea7e"
      },
      "execution_count": 24,
      "outputs": [
        {
          "output_type": "display_data",
          "data": {
            "text/plain": [
              "<Figure size 100x100 with 1 Axes>"
            ],
            "image/png": "[encoded data removed]"
          },
          "metadata": {}
        }
      ]
    },
    {
      "cell_type": "code",
      "source": [
        "dist_3_abs = (a_3 - mean3).abs().mean()\n",
        "dist_3_sqr = ((a_3 - mean3)**2).mean().sqrt()\n",
        "dist_3_abs,dist_3_sqr"
      ],
      "metadata": {
        "colab": {
          "base_uri": "https://localhost:8080/"
        },
        "id": "O0nkZj78IX9X",
        "outputId": "d183f3eb-0a26-40ad-b25b-09dc87d1c6ff"
      },
      "execution_count": 25,
      "outputs": [
        {
          "output_type": "execute_result",
          "data": {
            "text/plain": [
              "(tensor(0.1114), tensor(0.2021))"
            ]
          },
          "metadata": {},
          "execution_count": 25
        }
      ]
    },
    {
      "cell_type": "code",
      "source": [
        "dist_7_abs = (a_3 - mean7).abs().mean()\n",
        "dist_7_sqr = ((a_3 - mean7)**2).mean().sqrt()\n",
        "dist_7_abs,dist_7_sqr"
      ],
      "metadata": {
        "colab": {
          "base_uri": "https://localhost:8080/"
        },
        "id": "oQb6D_2EIbbx",
        "outputId": "a8696872-c28b-4d83-8194-d78f68bce131"
      },
      "execution_count": 26,
      "outputs": [
        {
          "output_type": "execute_result",
          "data": {
            "text/plain": [
              "(tensor(0.1586), tensor(0.3021))"
            ]
          },
          "metadata": {},
          "execution_count": 26
        }
      ]
    },
    {
      "cell_type": "markdown",
      "source": [
        "You can see that the difference between 7 vs ideal 3 is larger than 3 vs ideal 3.\n",
        "\n",
        "PyTorch already provides both of these as loss functions. You’ll find these inside torch.nn.functional, which the PyTorch team recommends importing as F (and is available by default under that name in fastai):\n",
        "\n",
        " Intuitively, the difference between L1 norm and mean squared error (MSE) is that the latter will penalize bigger mistakes more heavily than the former (and be more lenient with small mistakes).\n"
      ],
      "metadata": {
        "id": "8qcrVAUDIdc8"
      }
    },
    {
      "cell_type": "code",
      "source": [
        "F.l1_loss(a_3.float(),mean7), F.mse_loss(a_3,mean7).sqrt()"
      ],
      "metadata": {
        "colab": {
          "base_uri": "https://localhost:8080/"
        },
        "id": "FgkmPPLdIcPm",
        "outputId": "35a583d1-3ad7-443d-abf2-0f3919b3b542"
      },
      "execution_count": 27,
      "outputs": [
        {
          "output_type": "execute_result",
          "data": {
            "text/plain": [
              "(tensor(0.1586), tensor(0.3021))"
            ]
          },
          "metadata": {},
          "execution_count": 27
        }
      ]
    },
    {
      "cell_type": "markdown",
      "source": [
        "tensor numpy primer"
      ],
      "metadata": {
        "id": "nFndqp0oJ1nj"
      }
    },
    {
      "cell_type": "code",
      "source": [
        "data = [[1,2,3],[4,5,6]]\n",
        "arr = array (data)\n",
        "tns = tensor(data)"
      ],
      "metadata": {
        "id": "kPin7iC8KYld"
      },
      "execution_count": 29,
      "outputs": []
    },
    {
      "cell_type": "code",
      "source": [
        "tns[:,1]  # get column slice."
      ],
      "metadata": {
        "colab": {
          "base_uri": "https://localhost:8080/"
        },
        "id": "18H57w4QK3Fd",
        "outputId": "a1fbcf52-5b61-48f6-b9cd-80195bdc435a"
      },
      "execution_count": 32,
      "outputs": [
        {
          "output_type": "execute_result",
          "data": {
            "text/plain": [
              "tensor([2, 5])"
            ]
          },
          "metadata": {},
          "execution_count": 32
        }
      ]
    },
    {
      "cell_type": "markdown",
      "source": [
        "## Metrics Using Broadcasting\n",
        "\n",
        "So to start with, let’s create tensors for our 3s and 7s from that directory. These are the tensors we will use to calculate a metric measuring the quality of our first-try model, which measures distance from an ideal image:"
      ],
      "metadata": {
        "id": "-LKdYhptLl7N"
      }
    },
    {
      "cell_type": "code",
      "source": [
        "valid_3_tens = torch.stack([tensor(Image.open(o))\n",
        "                            for o in (path/'valid'/'3').ls()])\n",
        "valid_3_tens = valid_3_tens.float()/255\n",
        "valid_7_tens = torch.stack([tensor(Image.open(o))\n",
        "                            for o in (path/'valid'/'7').ls()])\n",
        "valid_7_tens = valid_7_tens.float()/255\n",
        "valid_3_tens.shape,valid_7_tens.shape"
      ],
      "metadata": {
        "colab": {
          "base_uri": "https://localhost:8080/"
        },
        "id": "DAsIpUZPLcqC",
        "outputId": "5a54cb89-a176-4192-c57a-7fd850a443e9"
      },
      "execution_count": 33,
      "outputs": [
        {
          "output_type": "execute_result",
          "data": {
            "text/plain": [
              "(torch.Size([1010, 28, 28]), torch.Size([1028, 28, 28]))"
            ]
          },
          "metadata": {},
          "execution_count": 33
        }
      ]
    },
    {
      "cell_type": "code",
      "source": [
        "def mnist_distance(a,b): return (a-b).abs().mean((-1,-2))\n",
        "mnist_distance(a_3, mean3)"
      ],
      "metadata": {
        "colab": {
          "base_uri": "https://localhost:8080/"
        },
        "id": "5PoE_MxbMEVW",
        "outputId": "97518537-fd2d-43e5-b393-769952ad8a81"
      },
      "execution_count": 34,
      "outputs": [
        {
          "output_type": "execute_result",
          "data": {
            "text/plain": [
              "tensor(0.1114)"
            ]
          },
          "metadata": {},
          "execution_count": 34
        }
      ]
    },
    {
      "cell_type": "code",
      "source": [
        "tensor([1,2,3]) + tensor(1)"
      ],
      "metadata": {
        "colab": {
          "base_uri": "https://localhost:8080/"
        },
        "id": "_UfnloTDN7aZ",
        "outputId": "8d2114e9-65cf-4e53-93ab-198274fd0637"
      },
      "execution_count": 35,
      "outputs": [
        {
          "output_type": "execute_result",
          "data": {
            "text/plain": [
              "tensor([2, 3, 4])"
            ]
          },
          "metadata": {},
          "execution_count": 35
        }
      ]
    },
    {
      "cell_type": "code",
      "source": [
        "(valid_3_tens-mean3).shape"
      ],
      "metadata": {
        "colab": {
          "base_uri": "https://localhost:8080/"
        },
        "id": "NP3KmihqOE2e",
        "outputId": "c89aaf48-350d-4d97-8340-8a91c79c2527"
      },
      "execution_count": 36,
      "outputs": [
        {
          "output_type": "execute_result",
          "data": {
            "text/plain": [
              "torch.Size([1010, 28, 28])"
            ]
          },
          "metadata": {},
          "execution_count": 36
        }
      ]
    },
    {
      "cell_type": "code",
      "source": [
        "def is_3(x): return mnist_distance(x,mean3) < mnist_distance(x,mean7)"
      ],
      "metadata": {
        "id": "Kkw1gjiqOTtB"
      },
      "execution_count": 37,
      "outputs": []
    },
    {
      "cell_type": "code",
      "source": [
        "is_3(a_3), is_3(a_3).float()"
      ],
      "metadata": {
        "colab": {
          "base_uri": "https://localhost:8080/"
        },
        "id": "Gk9ydLzlOX1u",
        "outputId": "3909a9a0-c422-4c00-e7e8-44962a5a6076"
      },
      "execution_count": 38,
      "outputs": [
        {
          "output_type": "execute_result",
          "data": {
            "text/plain": [
              "(tensor(True), tensor(1.))"
            ]
          },
          "metadata": {},
          "execution_count": 38
        }
      ]
    },
    {
      "cell_type": "code",
      "source": [
        "is_3(valid_3_tens)"
      ],
      "metadata": {
        "colab": {
          "base_uri": "https://localhost:8080/"
        },
        "id": "BMBKbD2LOgik",
        "outputId": "2bf9050e-1a95-43f1-82a0-08a04ed82b80"
      },
      "execution_count": 39,
      "outputs": [
        {
          "output_type": "execute_result",
          "data": {
            "text/plain": [
              "tensor([True, True, True,  ..., True, True, True])"
            ]
          },
          "metadata": {},
          "execution_count": 39
        }
      ]
    },
    {
      "cell_type": "code",
      "source": [
        "accuracy_3s =      is_3(valid_3_tens).float() .mean()\n",
        "accuracy_7s = (1 - is_3(valid_7_tens).float()).mean()\n",
        "\n",
        "accuracy_3s,accuracy_7s,(accuracy_3s+accuracy_7s)/2"
      ],
      "metadata": {
        "colab": {
          "base_uri": "https://localhost:8080/"
        },
        "id": "ZR6-n5akOkLj",
        "outputId": "caa38666-d4e8-46ba-d1b7-7270d7cd4d8c"
      },
      "execution_count": 40,
      "outputs": [
        {
          "output_type": "execute_result",
          "data": {
            "text/plain": [
              "(tensor(0.9168), tensor(0.9854), tensor(0.9511))"
            ]
          },
          "metadata": {},
          "execution_count": 40
        }
      ]
    },
    {
      "cell_type": "markdown",
      "source": [
        "## Stochastic Gradient Descent (SGD)\n",
        "Here we are assuming that x is the image, represented as a vector—in other words, with all of the rows stacked up end to end into a single long line. And we are assuming that the weights are a vector w. If we have this function, then we just need some way to update the weights to make them a little bit better. With such an approach, we can repeat that step a number of times, making the weights better and better, until they are as good as we can make them."
      ],
      "metadata": {
        "id": "ApbIgyCtOsIS"
      }
    },
    {
      "cell_type": "code",
      "source": [
        "def pr_eight(x,w): return (x*w).sum()"
      ],
      "metadata": {
        "id": "humH6JUnQ9jQ"
      },
      "execution_count": 41,
      "outputs": []
    },
    {
      "cell_type": "markdown",
      "source": [
        "## Steps for Machine learning classifier\n",
        "\n",
        "1.   Initialize the weights.\n",
        "2. For each image, use these weights to predict whether it appears to be a 3 or a 7.\n",
        "3. Based on these predictions, calculate how good the model is (its loss).\n",
        "4. Calculate the gradient, which measures for each weight, how changing that weight would change the loss\n",
        "5. Step (that is, change) all the weights based on that calculation.\n",
        "6. Go back to the step 2, and repeat the process.\n",
        "7. Iterate until you decide to stop the training process (for instance, because the model is good enough or you don’t want to wait any longer).\n",
        "\n"
      ],
      "metadata": {
        "id": "IZErg7G0Q_M8"
      }
    },
    {
      "cell_type": "code",
      "source": [
        "def f(x): return x**2"
      ],
      "metadata": {
        "id": "AW4qGoVCRWFu"
      },
      "execution_count": 43,
      "outputs": []
    },
    {
      "cell_type": "code",
      "source": [
        "plot_function(f, 'x', 'x**2')\n",
        "plt.scatter(-1.5, f(-1.5), color='red');"
      ],
      "metadata": {
        "colab": {
          "base_uri": "https://localhost:8080/",
          "height": 396
        },
        "id": "QXutDhw3RYSM",
        "outputId": "44e3f299-e27b-40c6-c8b8-54fc8d425629"
      },
      "execution_count": 45,
      "outputs": [
        {
          "output_type": "display_data",
          "data": {
            "text/plain": [
              "<Figure size 600x400 with 1 Axes>"
            ],
            "image/png": "[encoded data removed]"
          },
          "metadata": {}
        }
      ]
    },
    {
      "cell_type": "markdown",
      "source": [
        "Notice the special method requires_grad_? That’s the magical incantation we use to tell PyTorch that we want to calculate gradients with respect to that variable at that value. It is essentially tagging the variable, so PyTorch will remember to keep track of how to compute gradients of the other, direct calculations on it that you will ask for."
      ],
      "metadata": {
        "id": "CzCBNeAzSm-C"
      }
    },
    {
      "cell_type": "code",
      "source": [
        "xt = tensor(3.).requires_grad_()"
      ],
      "metadata": {
        "id": "GZRiHB1xSk0S"
      },
      "execution_count": 51,
      "outputs": []
    },
    {
      "cell_type": "code",
      "source": [
        "yt = f(xt)\n",
        "yt"
      ],
      "metadata": {
        "colab": {
          "base_uri": "https://localhost:8080/"
        },
        "id": "Rps4djcwSu0_",
        "outputId": "157ff7ba-8e86-4ec0-c440-7c40bd8e9fea"
      },
      "execution_count": 52,
      "outputs": [
        {
          "output_type": "execute_result",
          "data": {
            "text/plain": [
              "tensor(9., grad_fn=<PowBackward0>)"
            ]
          },
          "metadata": {},
          "execution_count": 52
        }
      ]
    },
    {
      "cell_type": "code",
      "source": [
        "# calculate gradient\n",
        "yt.backward()  # really calculating gradient, fancy vocab though\n",
        "\n",
        "xt.grad # now see gradient"
      ],
      "metadata": {
        "colab": {
          "base_uri": "https://localhost:8080/"
        },
        "id": "116hDZUmSvPF",
        "outputId": "0830793f-1411-498e-d51d-b4500b69d8db"
      },
      "execution_count": 53,
      "outputs": [
        {
          "output_type": "execute_result",
          "data": {
            "text/plain": [
              "tensor(6.)"
            ]
          },
          "metadata": {},
          "execution_count": 53
        }
      ]
    },
    {
      "cell_type": "code",
      "source": [
        "xt = tensor([3.,4.,10.]).requires_grad_()\n",
        "xt"
      ],
      "metadata": {
        "colab": {
          "base_uri": "https://localhost:8080/"
        },
        "id": "5gb3r41gU8CX",
        "outputId": "08a18176-fd1b-449e-dbb7-2a75f6472ad4"
      },
      "execution_count": 54,
      "outputs": [
        {
          "output_type": "execute_result",
          "data": {
            "text/plain": [
              "tensor([ 3.,  4., 10.], requires_grad=True)"
            ]
          },
          "metadata": {},
          "execution_count": 54
        }
      ]
    },
    {
      "cell_type": "code",
      "source": [
        "def f(x): return (x**2).sum()\n",
        "\n",
        "yt = f(xt)\n",
        "yt"
      ],
      "metadata": {
        "colab": {
          "base_uri": "https://localhost:8080/"
        },
        "id": "v7sgLxSzU-m-",
        "outputId": "8a4a98db-4003-4e45-df7d-8b5de4153f5c"
      },
      "execution_count": 55,
      "outputs": [
        {
          "output_type": "execute_result",
          "data": {
            "text/plain": [
              "tensor(125., grad_fn=<SumBackward0>)"
            ]
          },
          "metadata": {},
          "execution_count": 55
        }
      ]
    },
    {
      "cell_type": "code",
      "source": [
        "yt.backward()\n",
        "xt.grad"
      ],
      "metadata": {
        "colab": {
          "base_uri": "https://localhost:8080/"
        },
        "id": "mO_FUt3OVFPg",
        "outputId": "81731a8b-5d33-4ed2-bec7-6b41105afdf5"
      },
      "execution_count": 56,
      "outputs": [
        {
          "output_type": "execute_result",
          "data": {
            "text/plain": [
              "tensor([ 6.,  8., 20.])"
            ]
          },
          "metadata": {},
          "execution_count": 56
        }
      ]
    },
    {
      "cell_type": "markdown",
      "source": [
        "## stepping gradient\n",
        "\n",
        "we subtract the gradient * lr from the parameter to update it. This allows us to adjust the parameter in the direction of the slope by increasing the parameter when the slope is negative and decreasing the parameter when the slope is positive.\n",
        "\n",
        "` w -= gradient(w) * lr `\n",
        "\n",
        "## END TO END SGD exaple"
      ],
      "metadata": {
        "id": "tsugEIMhVSG9"
      }
    },
    {
      "cell_type": "code",
      "source": [
        "time = torch.arange(0,20).float(); time"
      ],
      "metadata": {
        "colab": {
          "base_uri": "https://localhost:8080/"
        },
        "id": "kNH_dHZGVmY0",
        "outputId": "e1bb83fc-72b0-4928-a1ef-b2cc1fbba768"
      },
      "execution_count": 58,
      "outputs": [
        {
          "output_type": "execute_result",
          "data": {
            "text/plain": [
              "tensor([ 0.,  1.,  2.,  3.,  4.,  5.,  6.,  7.,  8.,  9., 10., 11., 12., 13., 14., 15., 16., 17., 18., 19.])"
            ]
          },
          "metadata": {},
          "execution_count": 58
        }
      ]
    },
    {
      "cell_type": "code",
      "source": [
        "speed = torch.randn(20)*3 + 0.75*(time-9.5)**2 + 1\n",
        "plt.scatter(time,speed);"
      ],
      "metadata": {
        "colab": {
          "base_uri": "https://localhost:8080/",
          "height": 434
        },
        "id": "LT9mRh85VayX",
        "outputId": "6680ddd8-6c68-4861-d20f-46a0aff45f8a"
      },
      "execution_count": 59,
      "outputs": [
        {
          "output_type": "display_data",
          "data": {
            "text/plain": [
              "<Figure size 640x480 with 1 Axes>"
            ],
            "image/png": "[encoded data removed]"
          },
          "metadata": {}
        }
      ]
    },
    {
      "cell_type": "code",
      "source": [
        "def f(t, params):\n",
        "    a,b,c = params\n",
        "    return a*(t**2) + (b*t) + c"
      ],
      "metadata": {
        "id": "Yd6cGtT5V-U3"
      },
      "execution_count": 60,
      "outputs": []
    },
    {
      "cell_type": "code",
      "source": [
        "def mse(preds, targets): return ((preds-targets)**2).mean()"
      ],
      "metadata": {
        "id": "UkUcW6xgWDBt"
      },
      "execution_count": 61,
      "outputs": []
    },
    {
      "cell_type": "code",
      "source": [
        "# Initialize parameters\n",
        "params = torch.randn(3).requires_grad_()\n",
        "\n",
        "# calculate predictions\n",
        "preds = f(time, params)"
      ],
      "metadata": {
        "id": "lQeP7bTnWFPS"
      },
      "execution_count": 63,
      "outputs": []
    },
    {
      "cell_type": "code",
      "source": [
        "def show_preds(preds, ax=None):\n",
        "    if ax is None: ax=plt.subplots()[1]\n",
        "    ax.scatter(time, speed)\n",
        "    ax.scatter(time, to_np(preds), color='red')\n",
        "    ax.set_ylim(-300,100)"
      ],
      "metadata": {
        "id": "ga_oaisXWKie"
      },
      "execution_count": 64,
      "outputs": []
    },
    {
      "cell_type": "code",
      "source": [
        "loss = mse(preds, speed)\n",
        "loss"
      ],
      "metadata": {
        "colab": {
          "base_uri": "https://localhost:8080/"
        },
        "id": "BR2naEr5WSQ0",
        "outputId": "170402ff-111e-466c-af9d-f4d1966899a3"
      },
      "execution_count": 65,
      "outputs": [
        {
          "output_type": "execute_result",
          "data": {
            "text/plain": [
              "tensor(8631.7373, grad_fn=<MeanBackward0>)"
            ]
          },
          "metadata": {},
          "execution_count": 65
        }
      ]
    },
    {
      "cell_type": "code",
      "source": [
        "loss.backward()\n",
        "params.grad"
      ],
      "metadata": {
        "colab": {
          "base_uri": "https://localhost:8080/"
        },
        "id": "FtRpN-J2W45j",
        "outputId": "01b4cc97-3310-4993-822c-d6f115e2c75c"
      },
      "execution_count": 66,
      "outputs": [
        {
          "output_type": "execute_result",
          "data": {
            "text/plain": [
              "tensor([29901.0918,  1916.4382,   111.7121])"
            ]
          },
          "metadata": {},
          "execution_count": 66
        }
      ]
    },
    {
      "cell_type": "code",
      "source": [
        "params.grad * 1e-5"
      ],
      "metadata": {
        "colab": {
          "base_uri": "https://localhost:8080/"
        },
        "id": "tA_MRYiyW61_",
        "outputId": "7ff5b7ad-7c04-437b-ab23-247af32ed08c"
      },
      "execution_count": 67,
      "outputs": [
        {
          "output_type": "execute_result",
          "data": {
            "text/plain": [
              "tensor([0.2990, 0.0192, 0.0011])"
            ]
          },
          "metadata": {},
          "execution_count": 67
        }
      ]
    },
    {
      "cell_type": "markdown",
      "source": [
        "## MNIST Loss Function\n"
      ],
      "metadata": {
        "id": "cJXVlRCNXObj"
      }
    },
    {
      "cell_type": "code",
      "source": [
        "train_x = torch.cat([stacked_threes, stacked_sevens]).view(-1, 28*28)"
      ],
      "metadata": {
        "id": "QUen2_n2XOBn"
      },
      "execution_count": 69,
      "outputs": []
    },
    {
      "cell_type": "code",
      "source": [
        "# add labels\n",
        "train_y = tensor([1]*len(threes) + [0]*len(sevens)).unsqueeze(1)\n",
        "train_x.shape,train_y.shape"
      ],
      "metadata": {
        "colab": {
          "base_uri": "https://localhost:8080/"
        },
        "id": "7G2ZaIPuXgLz",
        "outputId": "dc6b531f-e314-4828-9419-bafd1c6454b7"
      },
      "execution_count": 70,
      "outputs": [
        {
          "output_type": "execute_result",
          "data": {
            "text/plain": [
              "(torch.Size([12396, 784]), torch.Size([12396, 1]))"
            ]
          },
          "metadata": {},
          "execution_count": 70
        }
      ]
    },
    {
      "cell_type": "code",
      "source": [
        "dset = list(zip(train_x,train_y))\n",
        "x,y = dset[0]\n",
        "x.shape,y"
      ],
      "metadata": {
        "colab": {
          "base_uri": "https://localhost:8080/"
        },
        "id": "UJN_s4lVXrHx",
        "outputId": "df25c8e5-8f1e-46b8-e20c-a7509e32bef5"
      },
      "execution_count": 71,
      "outputs": [
        {
          "output_type": "execute_result",
          "data": {
            "text/plain": [
              "(torch.Size([784]), tensor([1]))"
            ]
          },
          "metadata": {},
          "execution_count": 71
        }
      ]
    },
    {
      "cell_type": "code",
      "source": [
        "valid_x = torch.cat([valid_3_tens, valid_7_tens]).view(-1, 28*28)\n",
        "valid_y = tensor([1]*len(valid_3_tens) + [0]*len(valid_7_tens)).unsqueeze(1)\n",
        "valid_dset = list(zip(valid_x,valid_y))"
      ],
      "metadata": {
        "id": "nGl7Tq56X27W"
      },
      "execution_count": 72,
      "outputs": []
    }
  ]
}